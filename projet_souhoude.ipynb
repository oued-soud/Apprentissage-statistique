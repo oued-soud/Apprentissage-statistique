{
  "nbformat": 4,
  "nbformat_minor": 0,
  "metadata": {
    "kernelspec": {
      "display_name": "Python 3",
      "language": "python",
      "name": "python3"
    },
    "language_info": {
      "codemirror_mode": {
        "name": "ipython",
        "version": 3
      },
      "file_extension": ".py",
      "mimetype": "text/x-python",
      "name": "python",
      "nbconvert_exporter": "python",
      "pygments_lexer": "ipython3",
      "version": "3.7.4"
    },
    "colab": {
      "name": "projet_souhoude.ipynb",
      "provenance": [],
      "collapsed_sections": []
    }
  },
  "cells": [
    {
      "cell_type": "markdown",
      "metadata": {
        "id": "3vks9_KqsVVv"
      },
      "source": [
        "# projet d' Apprentissage Statistique"
      ]
    },
    {
      "cell_type": "markdown",
      "metadata": {
        "id": "RzEC7PECsVV3"
      },
      "source": [
        " #### Souhoude OUEDRAOGO \n",
        " #### Etudiant en science des donnees option IA"
      ]
    },
    {
      "cell_type": "markdown",
      "metadata": {
        "id": "1HwKb1IdsVV4"
      },
      "source": [
        "### Exercice N'1"
      ]
    },
    {
      "cell_type": "markdown",
      "metadata": {
        "id": "CwJNhPt3sVV4"
      },
      "source": [
        "On considère le modèle de régression $y_{i}=\\beta_{0}+\\beta_{1} x_{i, 1}+\\beta_{2} x_{i, 2}+\\varepsilon_{i}   1 \\leq i \\leq n,$ que l'on écrit sous la forme $Y=X \\beta+\\varepsilon$. Les $x_{i, j}$ sont des variables exogènes du modèle, les $\\varepsilon_{i}$ sont des variables aléatoires indépendantes, de loi normale centrée admettant la même variance $\\sigma^{2} .$ On a observé :\n",
        "$$\n",
        "X^{\\prime} X=\\left(\\begin{array}{ccc}\n",
        "30 & 20 & 0 \\\\\n",
        "20 & 20 & 0 \\\\\n",
        "0 & 0 & 10\n",
        "\\end{array}\\right), \\quad X^{\\prime} Y=\\left(\\begin{array}{c}\n",
        "15 \\\\\n",
        "20 \\\\\n",
        "10\n",
        "\\end{array}\\right), \\quad Y^{\\prime} Y=59.5\n",
        "$$"
      ]
    },
    {
      "cell_type": "markdown",
      "metadata": {
        "id": "fj08fe3nsVV5"
      },
      "source": [
        "#### 1. Déterminons $n$, la moyenne des $x_{i, 2}$, le coefficient de corrélation des $x_{i, 1}$ et des $x_{i, 2}$.\n",
        "\n",
        " La valeur de $n$ se lit en haut à gauche de la matrice $X^{\\prime} X,$ c'est-à-dire $n=\\left(X^{\\prime} X\\right)_{1,1}=30 .$ \n",
        "\n",
        " La moyenne des $x_{i, 2}$ correspond à\n",
        "$$\n",
        "\\frac{1}{30} \\sum_{i=1}^{30} x_{i, 1}=\\frac{\\left(X^{\\prime} X\\right)_{1,3}}{30}=0\n",
        "$$\n",
        "Puisque les $x_{i, 2}$ sont centrés, le coefficient de corrélation entre les deux variables $x_{2}$ et $x_{3}$ est alors :\n",
        "$$\n",
        "r_{1,2}=\\frac{\\sum_{i=1}^{30} x_{i, 1} x_{i, 2}}{\\sqrt{\\sum_{i=1}^{30}\\left(x_{i, 1}-\\bar{x}_{i, 1}\\right)^{2}} \\sqrt{\\sum_{i=1}^{30} x_{i, 2}^{2}}}=\\frac{\\left(X^{\\prime} X\\right)_{2,3}}{\\sqrt{\\sum_{i=1}^{30}\\left(x_{i, 1}-\\bar{x}_{i, 1}\\right)^{2}} \\sqrt{\\sum_{i=1}^{300} x_{i, 2}^{2}}}=0\n",
        "$$\n"
      ]
    },
    {
      "cell_type": "markdown",
      "metadata": {
        "id": "LSHtfhMjsVV6"
      },
      "source": [
        "#### 2. Estimons $\\beta_{0}, \\beta_{1}, \\beta_{2}, \\sigma^{2}$ par la méthode des moindres carrés ordinaires.\n",
        "\n",
        "La méthode des moindres carrés ordinaires donne pour $\\beta=\\left[\\beta_{0}, \\beta_{1}, \\beta_{2}\\right]^{\\prime}$ l'estimateur suivant : $\\hat{\\beta}=\\left(X^{\\prime} X\\right)^{-1} X^{\\prime} Y$\n",
        "$\\left(X^{\\prime} X\\right)^{-1} = \\left(\\begin{array}{ccc}30 & 20 & 0 \\\\ 20 & 20 & 0 \\\\ 0 & 0 & 10\\end{array}\\right)^{(-1)}=\\left(\\begin{array}{ccc}\\frac{1}{10} & \\frac{-1}{10} & 0 \\\\ \\frac{-1}{10} & \\frac{3}{20} & 0 \\\\ 0 & 0 & \\frac{1}{10}\\end{array}\\right) $\n",
        "\n",
        "$\\left(X^{\\prime} X\\right)^{-1} X^{\\prime} Y = \\left(\\begin{array}{ccc}\\frac{1}{10} & \\frac{-1}{10} & 0 \\\\ \\frac{-1}{10} & \\frac{3}{20} & 0 \\\\ 0 & 0 & \\frac{1}{10}\\end{array}\\right) \\cdot\\left(\\begin{array}{c}15 \\\\ 20 \\\\ 10\\end{array}\\right)=\\left(\\begin{array}{c}\\frac{-1}{2} \\\\ \\frac{3}{2} \\\\ 1\\end{array}\\right)$\n",
        "\n",
        "Un estimateur non biaisé $\\hat{\\sigma}^{2}$ de $\\sigma^{2}$ s'écrit\n",
        "\n",
        "$$\n",
        "\\hat{\\sigma}^{2}=\\frac{\\|Y-X \\hat{\\beta}\\|^{2}}{n-3}=\\frac{\\|Y\\|^{2}-\\|X \\hat{\\beta}\\|^{2}}{27}\n",
        "$$\n",
        "ce qui s'écrit encore:\n",
        "$$\n",
        "\\hat{\\sigma}^{2}=\\frac{Y^{\\prime} Y-Y^{\\prime} X\\left(X^{\\prime} X\\right)^{-1} X^{\\prime} Y}{27}=1\n",
        "$$"
      ]
    },
    {
      "cell_type": "markdown",
      "metadata": {
        "id": "uWWhvRcOsVV6"
      },
      "source": [
        "#### 3. Calculons pour $\\beta_{1}$ un intervalle de confiance à $95 \\%$ et tester $\\beta_{1}=0.8$ a niveau $10 \\%$\n",
        "\n",
        "Puisqu'on sait que :\n",
        "$$\n",
        "\\frac{\\beta_{1}-\\beta_{1}}{\\dot{\\sigma}_{1}}=\\frac{\\beta_{1}-\\beta_{2}}{\\hat{\\sigma} \\sqrt{\\left(X^{\\prime} X\\right)_{2,2}^{-1}}} \\sim \\mathcal{T}_{n-3}=\\mathcal{T}_{27}\n",
        "$$\n",
        "on en déduit qu'un intervalle de confiance à $95 \\%$ pour $\\beta_{2}$ est:\n",
        "$$\n",
        "I\\left(\\beta_{1}\\right)=\\left[\\hat{\\beta}_{1}-t_{27}(0.975) \\hat{\\sigma} \\sqrt{\\left(X^{\\prime} X\\right)_{2,2}^{-1}} ; \\hat{\\beta}_{1}+t_{27}(0.975) \\hat{\\sigma} \\sqrt{\\left(X^{\\prime} X\\right)_{2,2}^{-1}}\\right]\n",
        "$$\n",
        "c'est-à-dire:\n",
        "$$\n",
        "I\\left(\\beta_{1}\\right) \\approx[1.5-2.05 \\sqrt{0.15} ; 1.5+2.05 \\sqrt{0.15}] \\approx[0.71 ; 2.29]\n",
        "$$\n",
        "Pour tester l'hypothèse $H_{0}: \\beta_{2}=0.8$ contre $H_{1}: \\beta_{2} \\neq 0.8$ au niveau $10 \\%,$ on calcule de même un intervalle de confiance à $90 \\%$ de $\\beta_{2}$ :\n",
        "$$\n",
        "I\\left(\\beta_{2}\\right)=\\left[\\hat{\\beta}_{2}-t_{27}(0.95) \\hat{\\sigma} \\sqrt{\\left(X^{\\prime} X\\right)_{3,3}^{-1}} ; \\hat{\\beta}_{2}+t_{27}(0.95) \\hat{\\sigma} \\sqrt{\\left(X^{\\prime} X\\right)_{3,3}^{-1}}\\right]\n",
        "$$\n",
        "ce qui donne:\n",
        "$$\n",
        "I\\left(\\beta_{2}\\right) \\approx[1-1.70 \\sqrt{0.1} ; 1+1.70 \\sqrt{0.1}] \\approx[0.46 ; 1.54]\n",
        "$$\n",
        "donc on accepte au niveau $10 \\%$ l'hypothèse selon laquelle $\\beta_{2}=0.8$.\n"
      ]
    },
    {
      "cell_type": "markdown",
      "metadata": {
        "id": "YQYV6FBcsVV7"
      },
      "source": [
        "#### 4. Testons $\\beta_{0}+\\beta_{1}=3$ contre $\\beta_{0}+\\beta_{1} \\neq 3$ au niveau $5 \\%$\n",
        "\n",
        "On sait que\n",
        "$$\n",
        "\\frac{\\left(\\hat{\\beta}_{1}+\\hat{\\beta}_{2}\\right)-\\left(\\beta_{1}+\\beta_{2}\\right)}{\\partial_{\\dot{\\beta}_{1}+\\beta_{2}}} \\sim \\mathcal{T}_{27}\n",
        "$$\n",
        "avec :\n",
        "$$\n",
        "\\hat{\\sigma}_{\\dot{\\beta}_{1}+\\dot{\\beta}_{2}}=\\sqrt{\\hat{\\sigma}_{1}^{2}+2 \\operatorname{Cov}\\left(\\hat{\\beta}_{1}, \\hat{\\beta}_{2}\\right)+\\dot{\\sigma}_{2}^{2}}=\\hat{\\sigma} \\sqrt{\\left(X^{\\prime} X\\right)_{2,2}^{-1}+2\\left(X^{\\prime} X\\right)_{2,3}^{-1}+\\left(X^{\\prime} X\\right)_{3,3}^{-1}}\n",
        "$$\n",
        "c'est-d-dire $\\hat{\\sigma}_{\\beta_{1}+\\beta_{2}}=0.5 .$ Donc un intervalle de confiance à $95 \\%$ pour $\\beta_{1}+\\beta_{2}$ est $=$\n",
        "$$\n",
        "I\\left(\\beta_{1}+\\beta_{2}\\right)=\\left[2.5-0.5 t_{27}(0.975) ; 2.5+0.5 t_{27}(0.975)\\right] \\approx[1.47 ; 3.53] .\n",
        "$$\n",
        "\n",
        "Par conséquent, au niveau $5 \\%,$ on accepte $H_{0}: \\beta_{1}+\\beta_{2}=3$ contre $H_{1}: \\beta_{1}+\\beta_{2} \\neq 3 .$\n"
      ]
    },
    {
      "cell_type": "markdown",
      "metadata": {
        "id": "5c8UIOilsVV8"
      },
      "source": [
        "#### 5. Calculons  $\\bar{y}$ et déduisons le coefficient de détermination ajusté $R^{2}$\n",
        "\n",
        "La moyenne empirique des $y_{i}$ se déduit de la première composante du vecteur $X^{\\prime} Y,$ donc $\\bar{y}=15 / 30=0.5$. Par définition, le coefficient de détermination ajusté $R_{a}^{2}$ vaut\n",
        "$$\n",
        "R_{a}^{2}=1-\\frac{n-1}{n-p} \\frac{\\|Y-\\hat{Y}\\|^{2}}{\\|Y-\\bar{y} \\mathbb{1}\\|^{2}}=1-(n-1) \\frac{\\hat{\\sigma}^{2}}{\\|Y-\\bar{y} \\mathbb{1}\\|^{2}}\n",
        "$$\n",
        "donc\n",
        "$$\n",
        "R_{a}^{2}=1-\\frac{29}{Y^{\\prime} Y-30 \\bar{y}^{2}} \\approx 0.44\n",
        "$$"
      ]
    },
    {
      "cell_type": "markdown",
      "metadata": {
        "id": "WiqhumyksVV8"
      },
      "source": [
        "##### 6. Construisons un intervalle de prévision à $95 \\%$ de $y_{n+1}$ si $x_{n+1,1}=3$ et $x_{n+1,2}=0.5$.\n",
        "\n",
        "En notant $x_{n+1}^{\\prime}=[1,3,0.5],$ la valeur prédite pour $y_{n+1}$ est :\n",
        "$$\n",
        "\\hat{y}_{n+1}=x_{n+1}^{\\prime} \\hat{\\beta}=[1,3,0.5]*\\left(\\begin{array}{c}\\frac{-1}{2} \\\\ \\frac{3}{2} \\\\ 1\\end{array}\\right)=\\frac{9}{2}\n",
        "$$\n",
        "et un intervalle de prévision à $95 \\%$ pour $y_{n+1}$ est\n",
        "$$\n",
        "I C\\left(y_{n+1}\\right)=\\left[\\hat{y}_{n+1} \\pm t_{27}(0.975) \\hat{\\sigma} \\sqrt{1+x_{n+1}^{\\prime}\\left(X^{\\prime} X\\right)^{-1} x_{n+1}}\\right]\n",
        "$$\n",
        "ce qui donne numériquement $I C\\left(y_{n+1}\\right) \\approx[1.69 ; 7.31]$."
      ]
    },
    {
      "cell_type": "markdown",
      "metadata": {
        "id": "3smj9umZsVV9"
      },
      "source": [
        "### Exercice N'2"
      ]
    },
    {
      "cell_type": "markdown",
      "metadata": {
        "id": "BHLgrRh_sVV9"
      },
      "source": [
        "#### 1."
      ]
    },
    {
      "cell_type": "code",
      "metadata": {
        "id": "JhjKhp8PsVV9"
      },
      "source": [
        "import numpy as np\n",
        "import pandas as pd \n",
        "from sklearn import datasets"
      ],
      "execution_count": 1,
      "outputs": []
    },
    {
      "cell_type": "markdown",
      "metadata": {
        "id": "W0W4DPmXsVV-"
      },
      "source": [
        "importation  des donnees House Prices"
      ]
    },
    {
      "cell_type": "code",
      "metadata": {
        "colab": {
          "base_uri": "https://localhost:8080/"
        },
        "id": "PEIIhDO8sVV-",
        "outputId": "263f8dd4-420a-498e-f9bf-cb872d057284"
      },
      "source": [
        "boston = datasets.load_boston()\n",
        "print(boston.feature_names)\n",
        "print(boston.target)\n",
        "X=pd.DataFrame(boston.data)\n",
        "# définir les noms de colonnes\n",
        "X.columns=['CRIM', 'ZN', 'INDUS', 'CHAS', 'NOX' ,'RM' ,'AGE' ,'DIS', 'RAD' ,'TAX', 'PTRATIO' ,'B' ,'LSTAT']\n",
        "# ajout d'une colonne avec des valeurs de 1 pour chaque ligne afin d'avoir un intercept\n",
        "X.insert(0, \"constante\", 1, allow_duplicates=False)\n",
        "#X['constante'] = np.ones((m, 1))\n",
        "y=pd.DataFrame(boston.target)\n",
        "y.columns=['Prix']\n"
      ],
      "execution_count": 2,
      "outputs": [
        {
          "output_type": "stream",
          "text": [
            "['CRIM' 'ZN' 'INDUS' 'CHAS' 'NOX' 'RM' 'AGE' 'DIS' 'RAD' 'TAX' 'PTRATIO'\n",
            " 'B' 'LSTAT']\n",
            "[24.  21.6 34.7 33.4 36.2 28.7 22.9 27.1 16.5 18.9 15.  18.9 21.7 20.4\n",
            " 18.2 19.9 23.1 17.5 20.2 18.2 13.6 19.6 15.2 14.5 15.6 13.9 16.6 14.8\n",
            " 18.4 21.  12.7 14.5 13.2 13.1 13.5 18.9 20.  21.  24.7 30.8 34.9 26.6\n",
            " 25.3 24.7 21.2 19.3 20.  16.6 14.4 19.4 19.7 20.5 25.  23.4 18.9 35.4\n",
            " 24.7 31.6 23.3 19.6 18.7 16.  22.2 25.  33.  23.5 19.4 22.  17.4 20.9\n",
            " 24.2 21.7 22.8 23.4 24.1 21.4 20.  20.8 21.2 20.3 28.  23.9 24.8 22.9\n",
            " 23.9 26.6 22.5 22.2 23.6 28.7 22.6 22.  22.9 25.  20.6 28.4 21.4 38.7\n",
            " 43.8 33.2 27.5 26.5 18.6 19.3 20.1 19.5 19.5 20.4 19.8 19.4 21.7 22.8\n",
            " 18.8 18.7 18.5 18.3 21.2 19.2 20.4 19.3 22.  20.3 20.5 17.3 18.8 21.4\n",
            " 15.7 16.2 18.  14.3 19.2 19.6 23.  18.4 15.6 18.1 17.4 17.1 13.3 17.8\n",
            " 14.  14.4 13.4 15.6 11.8 13.8 15.6 14.6 17.8 15.4 21.5 19.6 15.3 19.4\n",
            " 17.  15.6 13.1 41.3 24.3 23.3 27.  50.  50.  50.  22.7 25.  50.  23.8\n",
            " 23.8 22.3 17.4 19.1 23.1 23.6 22.6 29.4 23.2 24.6 29.9 37.2 39.8 36.2\n",
            " 37.9 32.5 26.4 29.6 50.  32.  29.8 34.9 37.  30.5 36.4 31.1 29.1 50.\n",
            " 33.3 30.3 34.6 34.9 32.9 24.1 42.3 48.5 50.  22.6 24.4 22.5 24.4 20.\n",
            " 21.7 19.3 22.4 28.1 23.7 25.  23.3 28.7 21.5 23.  26.7 21.7 27.5 30.1\n",
            " 44.8 50.  37.6 31.6 46.7 31.5 24.3 31.7 41.7 48.3 29.  24.  25.1 31.5\n",
            " 23.7 23.3 22.  20.1 22.2 23.7 17.6 18.5 24.3 20.5 24.5 26.2 24.4 24.8\n",
            " 29.6 42.8 21.9 20.9 44.  50.  36.  30.1 33.8 43.1 48.8 31.  36.5 22.8\n",
            " 30.7 50.  43.5 20.7 21.1 25.2 24.4 35.2 32.4 32.  33.2 33.1 29.1 35.1\n",
            " 45.4 35.4 46.  50.  32.2 22.  20.1 23.2 22.3 24.8 28.5 37.3 27.9 23.9\n",
            " 21.7 28.6 27.1 20.3 22.5 29.  24.8 22.  26.4 33.1 36.1 28.4 33.4 28.2\n",
            " 22.8 20.3 16.1 22.1 19.4 21.6 23.8 16.2 17.8 19.8 23.1 21.  23.8 23.1\n",
            " 20.4 18.5 25.  24.6 23.  22.2 19.3 22.6 19.8 17.1 19.4 22.2 20.7 21.1\n",
            " 19.5 18.5 20.6 19.  18.7 32.7 16.5 23.9 31.2 17.5 17.2 23.1 24.5 26.6\n",
            " 22.9 24.1 18.6 30.1 18.2 20.6 17.8 21.7 22.7 22.6 25.  19.9 20.8 16.8\n",
            " 21.9 27.5 21.9 23.1 50.  50.  50.  50.  50.  13.8 13.8 15.  13.9 13.3\n",
            " 13.1 10.2 10.4 10.9 11.3 12.3  8.8  7.2 10.5  7.4 10.2 11.5 15.1 23.2\n",
            "  9.7 13.8 12.7 13.1 12.5  8.5  5.   6.3  5.6  7.2 12.1  8.3  8.5  5.\n",
            " 11.9 27.9 17.2 27.5 15.  17.2 17.9 16.3  7.   7.2  7.5 10.4  8.8  8.4\n",
            " 16.7 14.2 20.8 13.4 11.7  8.3 10.2 10.9 11.   9.5 14.5 14.1 16.1 14.3\n",
            " 11.7 13.4  9.6  8.7  8.4 12.8 10.5 17.1 18.4 15.4 10.8 11.8 14.9 12.6\n",
            " 14.1 13.  13.4 15.2 16.1 17.8 14.9 14.1 12.7 13.5 14.9 20.  16.4 17.7\n",
            " 19.5 20.2 21.4 19.9 19.  19.1 19.1 20.1 19.9 19.6 23.2 29.8 13.8 13.3\n",
            " 16.7 12.  14.6 21.4 23.  23.7 25.  21.8 20.6 21.2 19.1 20.6 15.2  7.\n",
            "  8.1 13.6 20.1 21.8 24.5 23.1 19.7 18.3 21.2 17.5 16.8 22.4 20.6 23.9\n",
            " 22.  11.9]\n"
          ],
          "name": "stdout"
        }
      ]
    },
    {
      "cell_type": "code",
      "metadata": {
        "colab": {
          "base_uri": "https://localhost:8080/",
          "height": 419
        },
        "id": "90htAiEEs8VK",
        "outputId": "eeb3eb93-e8fb-402b-aede-78c2da9fe028"
      },
      "source": [
        "X"
      ],
      "execution_count": 3,
      "outputs": [
        {
          "output_type": "execute_result",
          "data": {
            "text/html": [
              "<div>\n",
              "<style scoped>\n",
              "    .dataframe tbody tr th:only-of-type {\n",
              "        vertical-align: middle;\n",
              "    }\n",
              "\n",
              "    .dataframe tbody tr th {\n",
              "        vertical-align: top;\n",
              "    }\n",
              "\n",
              "    .dataframe thead th {\n",
              "        text-align: right;\n",
              "    }\n",
              "</style>\n",
              "<table border=\"1\" class=\"dataframe\">\n",
              "  <thead>\n",
              "    <tr style=\"text-align: right;\">\n",
              "      <th></th>\n",
              "      <th>constante</th>\n",
              "      <th>CRIM</th>\n",
              "      <th>ZN</th>\n",
              "      <th>INDUS</th>\n",
              "      <th>CHAS</th>\n",
              "      <th>NOX</th>\n",
              "      <th>RM</th>\n",
              "      <th>AGE</th>\n",
              "      <th>DIS</th>\n",
              "      <th>RAD</th>\n",
              "      <th>TAX</th>\n",
              "      <th>PTRATIO</th>\n",
              "      <th>B</th>\n",
              "      <th>LSTAT</th>\n",
              "    </tr>\n",
              "  </thead>\n",
              "  <tbody>\n",
              "    <tr>\n",
              "      <th>0</th>\n",
              "      <td>1</td>\n",
              "      <td>0.00632</td>\n",
              "      <td>18.0</td>\n",
              "      <td>2.31</td>\n",
              "      <td>0.0</td>\n",
              "      <td>0.538</td>\n",
              "      <td>6.575</td>\n",
              "      <td>65.2</td>\n",
              "      <td>4.0900</td>\n",
              "      <td>1.0</td>\n",
              "      <td>296.0</td>\n",
              "      <td>15.3</td>\n",
              "      <td>396.90</td>\n",
              "      <td>4.98</td>\n",
              "    </tr>\n",
              "    <tr>\n",
              "      <th>1</th>\n",
              "      <td>1</td>\n",
              "      <td>0.02731</td>\n",
              "      <td>0.0</td>\n",
              "      <td>7.07</td>\n",
              "      <td>0.0</td>\n",
              "      <td>0.469</td>\n",
              "      <td>6.421</td>\n",
              "      <td>78.9</td>\n",
              "      <td>4.9671</td>\n",
              "      <td>2.0</td>\n",
              "      <td>242.0</td>\n",
              "      <td>17.8</td>\n",
              "      <td>396.90</td>\n",
              "      <td>9.14</td>\n",
              "    </tr>\n",
              "    <tr>\n",
              "      <th>2</th>\n",
              "      <td>1</td>\n",
              "      <td>0.02729</td>\n",
              "      <td>0.0</td>\n",
              "      <td>7.07</td>\n",
              "      <td>0.0</td>\n",
              "      <td>0.469</td>\n",
              "      <td>7.185</td>\n",
              "      <td>61.1</td>\n",
              "      <td>4.9671</td>\n",
              "      <td>2.0</td>\n",
              "      <td>242.0</td>\n",
              "      <td>17.8</td>\n",
              "      <td>392.83</td>\n",
              "      <td>4.03</td>\n",
              "    </tr>\n",
              "    <tr>\n",
              "      <th>3</th>\n",
              "      <td>1</td>\n",
              "      <td>0.03237</td>\n",
              "      <td>0.0</td>\n",
              "      <td>2.18</td>\n",
              "      <td>0.0</td>\n",
              "      <td>0.458</td>\n",
              "      <td>6.998</td>\n",
              "      <td>45.8</td>\n",
              "      <td>6.0622</td>\n",
              "      <td>3.0</td>\n",
              "      <td>222.0</td>\n",
              "      <td>18.7</td>\n",
              "      <td>394.63</td>\n",
              "      <td>2.94</td>\n",
              "    </tr>\n",
              "    <tr>\n",
              "      <th>4</th>\n",
              "      <td>1</td>\n",
              "      <td>0.06905</td>\n",
              "      <td>0.0</td>\n",
              "      <td>2.18</td>\n",
              "      <td>0.0</td>\n",
              "      <td>0.458</td>\n",
              "      <td>7.147</td>\n",
              "      <td>54.2</td>\n",
              "      <td>6.0622</td>\n",
              "      <td>3.0</td>\n",
              "      <td>222.0</td>\n",
              "      <td>18.7</td>\n",
              "      <td>396.90</td>\n",
              "      <td>5.33</td>\n",
              "    </tr>\n",
              "    <tr>\n",
              "      <th>...</th>\n",
              "      <td>...</td>\n",
              "      <td>...</td>\n",
              "      <td>...</td>\n",
              "      <td>...</td>\n",
              "      <td>...</td>\n",
              "      <td>...</td>\n",
              "      <td>...</td>\n",
              "      <td>...</td>\n",
              "      <td>...</td>\n",
              "      <td>...</td>\n",
              "      <td>...</td>\n",
              "      <td>...</td>\n",
              "      <td>...</td>\n",
              "      <td>...</td>\n",
              "    </tr>\n",
              "    <tr>\n",
              "      <th>501</th>\n",
              "      <td>1</td>\n",
              "      <td>0.06263</td>\n",
              "      <td>0.0</td>\n",
              "      <td>11.93</td>\n",
              "      <td>0.0</td>\n",
              "      <td>0.573</td>\n",
              "      <td>6.593</td>\n",
              "      <td>69.1</td>\n",
              "      <td>2.4786</td>\n",
              "      <td>1.0</td>\n",
              "      <td>273.0</td>\n",
              "      <td>21.0</td>\n",
              "      <td>391.99</td>\n",
              "      <td>9.67</td>\n",
              "    </tr>\n",
              "    <tr>\n",
              "      <th>502</th>\n",
              "      <td>1</td>\n",
              "      <td>0.04527</td>\n",
              "      <td>0.0</td>\n",
              "      <td>11.93</td>\n",
              "      <td>0.0</td>\n",
              "      <td>0.573</td>\n",
              "      <td>6.120</td>\n",
              "      <td>76.7</td>\n",
              "      <td>2.2875</td>\n",
              "      <td>1.0</td>\n",
              "      <td>273.0</td>\n",
              "      <td>21.0</td>\n",
              "      <td>396.90</td>\n",
              "      <td>9.08</td>\n",
              "    </tr>\n",
              "    <tr>\n",
              "      <th>503</th>\n",
              "      <td>1</td>\n",
              "      <td>0.06076</td>\n",
              "      <td>0.0</td>\n",
              "      <td>11.93</td>\n",
              "      <td>0.0</td>\n",
              "      <td>0.573</td>\n",
              "      <td>6.976</td>\n",
              "      <td>91.0</td>\n",
              "      <td>2.1675</td>\n",
              "      <td>1.0</td>\n",
              "      <td>273.0</td>\n",
              "      <td>21.0</td>\n",
              "      <td>396.90</td>\n",
              "      <td>5.64</td>\n",
              "    </tr>\n",
              "    <tr>\n",
              "      <th>504</th>\n",
              "      <td>1</td>\n",
              "      <td>0.10959</td>\n",
              "      <td>0.0</td>\n",
              "      <td>11.93</td>\n",
              "      <td>0.0</td>\n",
              "      <td>0.573</td>\n",
              "      <td>6.794</td>\n",
              "      <td>89.3</td>\n",
              "      <td>2.3889</td>\n",
              "      <td>1.0</td>\n",
              "      <td>273.0</td>\n",
              "      <td>21.0</td>\n",
              "      <td>393.45</td>\n",
              "      <td>6.48</td>\n",
              "    </tr>\n",
              "    <tr>\n",
              "      <th>505</th>\n",
              "      <td>1</td>\n",
              "      <td>0.04741</td>\n",
              "      <td>0.0</td>\n",
              "      <td>11.93</td>\n",
              "      <td>0.0</td>\n",
              "      <td>0.573</td>\n",
              "      <td>6.030</td>\n",
              "      <td>80.8</td>\n",
              "      <td>2.5050</td>\n",
              "      <td>1.0</td>\n",
              "      <td>273.0</td>\n",
              "      <td>21.0</td>\n",
              "      <td>396.90</td>\n",
              "      <td>7.88</td>\n",
              "    </tr>\n",
              "  </tbody>\n",
              "</table>\n",
              "<p>506 rows × 14 columns</p>\n",
              "</div>"
            ],
            "text/plain": [
              "     constante     CRIM    ZN  INDUS  CHAS  ...  RAD    TAX  PTRATIO       B  LSTAT\n",
              "0            1  0.00632  18.0   2.31   0.0  ...  1.0  296.0     15.3  396.90   4.98\n",
              "1            1  0.02731   0.0   7.07   0.0  ...  2.0  242.0     17.8  396.90   9.14\n",
              "2            1  0.02729   0.0   7.07   0.0  ...  2.0  242.0     17.8  392.83   4.03\n",
              "3            1  0.03237   0.0   2.18   0.0  ...  3.0  222.0     18.7  394.63   2.94\n",
              "4            1  0.06905   0.0   2.18   0.0  ...  3.0  222.0     18.7  396.90   5.33\n",
              "..         ...      ...   ...    ...   ...  ...  ...    ...      ...     ...    ...\n",
              "501          1  0.06263   0.0  11.93   0.0  ...  1.0  273.0     21.0  391.99   9.67\n",
              "502          1  0.04527   0.0  11.93   0.0  ...  1.0  273.0     21.0  396.90   9.08\n",
              "503          1  0.06076   0.0  11.93   0.0  ...  1.0  273.0     21.0  396.90   5.64\n",
              "504          1  0.10959   0.0  11.93   0.0  ...  1.0  273.0     21.0  393.45   6.48\n",
              "505          1  0.04741   0.0  11.93   0.0  ...  1.0  273.0     21.0  396.90   7.88\n",
              "\n",
              "[506 rows x 14 columns]"
            ]
          },
          "metadata": {
            "tags": []
          },
          "execution_count": 3
        }
      ]
    },
    {
      "cell_type": "code",
      "metadata": {
        "colab": {
          "base_uri": "https://localhost:8080/",
          "height": 419
        },
        "id": "iYzyAJ3ZtHWQ",
        "outputId": "469aa812-654d-4c90-f6cf-1fe0517fd37d"
      },
      "source": [
        "y"
      ],
      "execution_count": 4,
      "outputs": [
        {
          "output_type": "execute_result",
          "data": {
            "text/html": [
              "<div>\n",
              "<style scoped>\n",
              "    .dataframe tbody tr th:only-of-type {\n",
              "        vertical-align: middle;\n",
              "    }\n",
              "\n",
              "    .dataframe tbody tr th {\n",
              "        vertical-align: top;\n",
              "    }\n",
              "\n",
              "    .dataframe thead th {\n",
              "        text-align: right;\n",
              "    }\n",
              "</style>\n",
              "<table border=\"1\" class=\"dataframe\">\n",
              "  <thead>\n",
              "    <tr style=\"text-align: right;\">\n",
              "      <th></th>\n",
              "      <th>Prix</th>\n",
              "    </tr>\n",
              "  </thead>\n",
              "  <tbody>\n",
              "    <tr>\n",
              "      <th>0</th>\n",
              "      <td>24.0</td>\n",
              "    </tr>\n",
              "    <tr>\n",
              "      <th>1</th>\n",
              "      <td>21.6</td>\n",
              "    </tr>\n",
              "    <tr>\n",
              "      <th>2</th>\n",
              "      <td>34.7</td>\n",
              "    </tr>\n",
              "    <tr>\n",
              "      <th>3</th>\n",
              "      <td>33.4</td>\n",
              "    </tr>\n",
              "    <tr>\n",
              "      <th>4</th>\n",
              "      <td>36.2</td>\n",
              "    </tr>\n",
              "    <tr>\n",
              "      <th>...</th>\n",
              "      <td>...</td>\n",
              "    </tr>\n",
              "    <tr>\n",
              "      <th>501</th>\n",
              "      <td>22.4</td>\n",
              "    </tr>\n",
              "    <tr>\n",
              "      <th>502</th>\n",
              "      <td>20.6</td>\n",
              "    </tr>\n",
              "    <tr>\n",
              "      <th>503</th>\n",
              "      <td>23.9</td>\n",
              "    </tr>\n",
              "    <tr>\n",
              "      <th>504</th>\n",
              "      <td>22.0</td>\n",
              "    </tr>\n",
              "    <tr>\n",
              "      <th>505</th>\n",
              "      <td>11.9</td>\n",
              "    </tr>\n",
              "  </tbody>\n",
              "</table>\n",
              "<p>506 rows × 1 columns</p>\n",
              "</div>"
            ],
            "text/plain": [
              "     Prix\n",
              "0    24.0\n",
              "1    21.6\n",
              "2    34.7\n",
              "3    33.4\n",
              "4    36.2\n",
              "..    ...\n",
              "501  22.4\n",
              "502  20.6\n",
              "503  23.9\n",
              "504  22.0\n",
              "505  11.9\n",
              "\n",
              "[506 rows x 1 columns]"
            ]
          },
          "metadata": {
            "tags": []
          },
          "execution_count": 4
        }
      ]
    },
    {
      "cell_type": "markdown",
      "metadata": {
        "id": "DBXLYDvksVWA"
      },
      "source": [
        "Programmons une fonction regression(X, Y) qui renvoie l’estimateur des moindre carrés."
      ]
    },
    {
      "cell_type": "code",
      "metadata": {
        "id": "6Ky6QiMhsVWA"
      },
      "source": [
        " def regression(X, Y):\n",
        "        a = np.linalg.inv( (np.dot(X.T,X)))\n",
        "        return np.dot(np.dot(a, X.T), y)"
      ],
      "execution_count": 5,
      "outputs": []
    },
    {
      "cell_type": "code",
      "metadata": {
        "colab": {
          "base_uri": "https://localhost:8080/"
        },
        "id": "nQH2q1ASsVWI",
        "outputId": "b2acc6a1-3db1-44ad-9e5d-66603020e024"
      },
      "source": [
        "regression(X, y)"
      ],
      "execution_count": 6,
      "outputs": [
        {
          "output_type": "execute_result",
          "data": {
            "text/plain": [
              "array([[ 3.64594884e+01],\n",
              "       [-1.08011358e-01],\n",
              "       [ 4.64204584e-02],\n",
              "       [ 2.05586264e-02],\n",
              "       [ 2.68673382e+00],\n",
              "       [-1.77666112e+01],\n",
              "       [ 3.80986521e+00],\n",
              "       [ 6.92224640e-04],\n",
              "       [-1.47556685e+00],\n",
              "       [ 3.06049479e-01],\n",
              "       [-1.23345939e-02],\n",
              "       [-9.52747232e-01],\n",
              "       [ 9.31168327e-03],\n",
              "       [-5.24758378e-01]])"
            ]
          },
          "metadata": {
            "tags": []
          },
          "execution_count": 6
        }
      ]
    },
    {
      "cell_type": "markdown",
      "metadata": {
        "id": "LC1YvE-NsVWI"
      },
      "source": [
        "Utilisons notre fonction de régression sur le jeu de données Boston House Prices,"
      ]
    },
    {
      "cell_type": "code",
      "metadata": {
        "scrolled": false,
        "colab": {
          "base_uri": "https://localhost:8080/"
        },
        "id": "GZmdHQifsVWJ",
        "outputId": "ecfbe84a-3939-4332-ad1b-576956981e6f"
      },
      "source": [
        "regression(X, y)\n",
        "α_chapeau = regression(X, y)[1:]\n",
        "β_chapeau = regression(X, y)[0]\n",
        "\n",
        "print(\"β_chapeau = \\n\", β_chapeau)\n",
        "print(\"\\nα_chapeau = \\n\", α_chapeau)"
      ],
      "execution_count": 7,
      "outputs": [
        {
          "output_type": "stream",
          "text": [
            "β_chapeau = \n",
            " [36.45948839]\n",
            "\n",
            "α_chapeau = \n",
            " [[-1.08011358e-01]\n",
            " [ 4.64204584e-02]\n",
            " [ 2.05586264e-02]\n",
            " [ 2.68673382e+00]\n",
            " [-1.77666112e+01]\n",
            " [ 3.80986521e+00]\n",
            " [ 6.92224640e-04]\n",
            " [-1.47556685e+00]\n",
            " [ 3.06049479e-01]\n",
            " [-1.23345939e-02]\n",
            " [-9.52747232e-01]\n",
            " [ 9.31168327e-03]\n",
            " [-5.24758378e-01]]\n"
          ],
          "name": "stdout"
        }
      ]
    },
    {
      "cell_type": "markdown",
      "metadata": {
        "id": "hPPT_powsVWJ"
      },
      "source": [
        "Faisons la regression avec un regresseur de type linear_model.LinearRegression, notons qu'avec cette nous n'avons pas besion d'inclure une colonne de constante car cela est deja prise en compte. Donc nous avons creer un nouveau feature appelle X_sansconstante"
      ]
    },
    {
      "cell_type": "code",
      "metadata": {
        "colab": {
          "base_uri": "https://localhost:8080/"
        },
        "id": "y8VUo0SDsVWJ",
        "outputId": "fff2f3a5-f2aa-46b1-8feb-f9370df34716"
      },
      "source": [
        "from sklearn.linear_model import LinearRegression\n",
        "X_sansconstante = X[['CRIM', 'ZN', 'INDUS', 'CHAS', 'NOX' ,'RM' ,'AGE' ,'DIS', 'RAD' ,'TAX', 'PTRATIO' ,'B' ,'LSTAT']]\n",
        "reg = LinearRegression()\n",
        "reg.fit(X_sansconstante, y)\n",
        "\n",
        "print(reg.intercept_)\n",
        "print(\"\\n\" ,reg.coef_)\n",
        "\n"
      ],
      "execution_count": 8,
      "outputs": [
        {
          "output_type": "stream",
          "text": [
            "[36.45948839]\n",
            "\n",
            " [[-1.08011358e-01  4.64204584e-02  2.05586264e-02  2.68673382e+00\n",
            "  -1.77666112e+01  3.80986521e+00  6.92224640e-04 -1.47556685e+00\n",
            "   3.06049479e-01 -1.23345939e-02 -9.52747232e-01  9.31168327e-03\n",
            "  -5.24758378e-01]]\n"
          ],
          "name": "stdout"
        }
      ]
    },
    {
      "cell_type": "markdown",
      "metadata": {
        "id": "xp-xk_0NsVWK"
      },
      "source": [
        "comparons nos resultats avec ceux de la regression de type linear_model.LinearRegression \n",
        "\n",
        "    A travers les deux resultats nous trouvons exactement les memes resultats pour les vecteurs α, β"
      ]
    },
    {
      "cell_type": "markdown",
      "metadata": {
        "id": "ifCOu2VOsVWL"
      },
      "source": [
        "#### 2."
      ]
    },
    {
      "cell_type": "markdown",
      "metadata": {
        "id": "ZcqOtgSOsVWL"
      },
      "source": [
        "Écrivons une fonction regress(X, α, β) qui renvoie le vecteur Y_chapeau des étiquettes prédites "
      ]
    },
    {
      "cell_type": "code",
      "metadata": {
        "id": "Fdx5fsRVsVWM"
      },
      "source": [
        "def regress(X, α, β):\n",
        "    predict = np.dot(X,α ) + β\n",
        "    return predict"
      ],
      "execution_count": 9,
      "outputs": []
    },
    {
      "cell_type": "markdown",
      "metadata": {
        "id": "PlaENWghsVWM"
      },
      "source": [
        "#### 3"
      ]
    },
    {
      "cell_type": "markdown",
      "metadata": {
        "id": "pb1VSOPQsVWM"
      },
      "source": [
        "calculons l’erreur au sens des moindres carrés du régresseur appris sur l’ensemble du jeu de données Boston.\n",
        "\n",
        "MSE"
      ]
    },
    {
      "cell_type": "code",
      "metadata": {
        "colab": {
          "base_uri": "https://localhost:8080/"
        },
        "id": "EQhnOtWIsVWM",
        "outputId": "ee3ddc8e-9d95-422c-f35d-888bb9018417"
      },
      "source": [
        "MSE =  1/X.shape[0] * ((y - regress(X_sansconstante,α_chapeau,β_chapeau ))**2).sum() \n",
        "\n",
        "print(\"MSE = \", MSE)"
      ],
      "execution_count": 10,
      "outputs": [
        {
          "output_type": "stream",
          "text": [
            "MSE =  Prix    21.894831\n",
            "dtype: float64\n"
          ],
          "name": "stdout"
        }
      ]
    },
    {
      "cell_type": "markdown",
      "metadata": {
        "id": "QewLZoHwsVWN"
      },
      "source": [
        "#### 4\r\n",
        "\r\n",
        "\r\n",
        "#### a)"
      ]
    },
    {
      "cell_type": "markdown",
      "metadata": {
        "id": "20veAQJVsVWN"
      },
      "source": [
        "Programmons la fonction ridge_regression(X, Y , lambda) qui renvoie l’estimateur des\n",
        "moindre carrés généralisés"
      ]
    },
    {
      "cell_type": "code",
      "metadata": {
        "id": "nK2rvS5lsVWN"
      },
      "source": [
        "def ridge_regression(X, Y , lambd):\n",
        "    n, m = X.shape\n",
        "    I = np.identity(m)\n",
        "    w = np.dot(np.dot(np.linalg.inv(np.dot(X.T, X) + (lambd * I)), X.T), y)\n",
        "    return w\n",
        "    \n"
      ],
      "execution_count": 11,
      "outputs": []
    },
    {
      "cell_type": "code",
      "metadata": {
        "colab": {
          "base_uri": "https://localhost:8080/"
        },
        "id": "5cZtPBM7sVWO",
        "outputId": "5df2c039-f260-42e0-9b17-8041059afc31"
      },
      "source": [
        " ridge_regression(X,y,1)"
      ],
      "execution_count": 12,
      "outputs": [
        {
          "output_type": "execute_result",
          "data": {
            "text/plain": [
              "array([[ 1.56705427e+01],\n",
              "       [-9.86048066e-02],\n",
              "       [ 4.82554320e-02],\n",
              "       [-8.77533496e-03],\n",
              "       [ 2.65452916e+00],\n",
              "       [-6.28879951e+00],\n",
              "       [ 4.86927445e+00],\n",
              "       [-6.65674913e-03],\n",
              "       [-1.16424615e+00],\n",
              "       [ 2.30512930e-01],\n",
              "       [-1.12443314e-02],\n",
              "       [-6.30840387e-01],\n",
              "       [ 1.22963608e-02],\n",
              "       [-4.77294333e-01]])"
            ]
          },
          "metadata": {
            "tags": []
          },
          "execution_count": 12
        }
      ]
    },
    {
      "cell_type": "markdown",
      "metadata": {
        "id": "6G52G1cbsVWO"
      },
      "source": [
        "Faisons la regression avec un regresseur de régresseur de type linear_model.Ridge, "
      ]
    },
    {
      "cell_type": "code",
      "metadata": {
        "colab": {
          "base_uri": "https://localhost:8080/"
        },
        "id": "5cEnEFl2sVWO",
        "outputId": "43345541-8dca-4445-b655-b8f0b2fc5487"
      },
      "source": [
        "from sklearn.linear_model import Ridge\n",
        "ridge = Ridge(fit_intercept=False)\n",
        "ridge.fit(X, y)"
      ],
      "execution_count": 13,
      "outputs": [
        {
          "output_type": "execute_result",
          "data": {
            "text/plain": [
              "Ridge(alpha=1.0, copy_X=True, fit_intercept=False, max_iter=None,\n",
              "      normalize=False, random_state=None, solver='auto', tol=0.001)"
            ]
          },
          "metadata": {
            "tags": []
          },
          "execution_count": 13
        }
      ]
    },
    {
      "cell_type": "code",
      "metadata": {
        "colab": {
          "base_uri": "https://localhost:8080/"
        },
        "id": "D_deNOLdsVWP",
        "outputId": "4fa8f5e0-173d-49cf-feee-ee9dcbee23b9"
      },
      "source": [
        "ridge.coef_ "
      ],
      "execution_count": 14,
      "outputs": [
        {
          "output_type": "execute_result",
          "data": {
            "text/plain": [
              "array([[ 1.56705427e+01, -9.86048066e-02,  4.82554320e-02,\n",
              "        -8.77533496e-03,  2.65452916e+00, -6.28879951e+00,\n",
              "         4.86927445e+00, -6.65674913e-03, -1.16424615e+00,\n",
              "         2.30512930e-01, -1.12443314e-02, -6.30840387e-01,\n",
              "         1.22963608e-02, -4.77294333e-01]])"
            ]
          },
          "metadata": {
            "tags": []
          },
          "execution_count": 14
        }
      ]
    },
    {
      "cell_type": "markdown",
      "metadata": {
        "id": "9z5dhu60uuLm"
      },
      "source": [
        "Nous avons utilise notre de jeux de donnee avec la constante deja\r\n",
        "incluse et mettre False au niveau de fit_intercept (pour ne pas encore inclure la constante), donc dans ridge.coef le premier coefficient est l'intercept. Nous avons le meme resultats que notre fonction ridge_regression."
      ]
    },
    {
      "cell_type": "markdown",
      "metadata": {
        "id": "IodnAX0bvpL-"
      },
      "source": [
        "#### b)\r\n",
        "\r\n",
        "\r\n",
        "Tracons l’évolution des coefficients du vecteur α_chapeau en fonction du paramètre de régularisation lambda pour des valeurs entre 0.001 et 1000"
      ]
    },
    {
      "cell_type": "code",
      "metadata": {
        "id": "S7o-Z8ResVWP"
      },
      "source": [
        "import matplotlib.pyplot as plt\n",
        "def ridge_alpha() :\n",
        "    ridge = Ridge(normalize=True)\n",
        "    alphas =np.logspace(-3,3,10)\n",
        "    coef = []\n",
        "    for a in alphas:\n",
        "        ridge.set_params(alpha=a)\n",
        "        ridge.fit(X_sansconstante,y['Prix'])\n",
        "        coef.append(ridge.coef_)\n",
        "    ax = plt.gca()\n",
        "    ax.plot(alphas, coef)\n",
        "    ax.set_xscale('log')\n",
        "    ax.set_xlim(ax.get_xlim())\n",
        "    plt.xlabel(' (alpha)')\n",
        "    plt.ylabel('$\\\\alpha$ (Regression Coefficients)')\n",
        "    plt.legend(X_sansconstante.columns,loc = 'best',fontsize = 7)\n",
        "    \n",
        "\n",
        "    plt.show()"
      ],
      "execution_count": 15,
      "outputs": []
    },
    {
      "cell_type": "code",
      "metadata": {
        "colab": {
          "base_uri": "https://localhost:8080/",
          "height": 286
        },
        "id": "-rWGXtbGsVWQ",
        "outputId": "ee3ce2d5-c44b-4aec-c5c2-429ec2301a1d"
      },
      "source": [
        "ridge_alpha()"
      ],
      "execution_count": 16,
      "outputs": [
        {
          "output_type": "display_data",
          "data": {
            "image/png": "[encoded data removed]",
            "text/plain": [
              "<Figure size 432x288 with 1 Axes>"
            ]
          },
          "metadata": {
            "tags": [],
            "needs_background": "light"
          }
        }
      ]
    },
    {
      "cell_type": "markdown",
      "metadata": {
        "id": "axHEuRbJ5wYN"
      },
      "source": [
        "les variables qui semblent le mieux expliquer le prix des maisons à Boston sont : NOX,CHAS,RM, oui ce sont ue celles trouvées à l’exercice précédent. Les autres variables tendent vers zero quand lamda augmente.\r\n",
        "\r\n",
        "\r\n",
        "##### c)\r\n",
        "\r\n",
        "Nous allons chercher la meilleur valeur du parametre lamda par la methode de Gridsearch (sur 100 lamda different np.logspace(-3,3,100) avec cv=10)."
      ]
    },
    {
      "cell_type": "code",
      "metadata": {
        "colab": {
          "base_uri": "https://localhost:8080/"
        },
        "id": "kkR2hGO4sVWQ",
        "outputId": "63d6d27d-5ee1-497b-8fb4-d649e7ca3a9c"
      },
      "source": [
        "from sklearn.model_selection import GridSearchCV\n",
        "ridge = Ridge(normalize=True)\n",
        "param_grid = {'alpha': np.logspace(-3,3,100)}\n",
        "grid = GridSearchCV(ridge, param_grid, cv=10,\n",
        "return_train_score=True,scoring='neg_mean_squared_error')\n",
        "grid.fit(X_sansconstante,y)\n",
        "best_score = float(format(grid.best_score_, '.4f'))\n",
        "print('Best CV score: {:.4f}'.format(-grid.best_score_))\n",
        "print('Best parameter :',grid.best_params_)"
      ],
      "execution_count": 20,
      "outputs": [
        {
          "output_type": "stream",
          "text": [
            "Best CV score: 31.0981\n",
            "Best parameter : {'alpha': 0.23101297000831603}\n"
          ],
          "name": "stdout"
        }
      ]
    },
    {
      "cell_type": "markdown",
      "metadata": {
        "id": "-E425o_i7OXd"
      },
      "source": [
        "\r\n",
        "\r\n",
        "\r\n",
        "\r\n",
        "le meilleur lamda est  0.23101297000831603 en utlisant le MSE comme scoring\r\n",
        "\r\n",
        "\r\n",
        "Apprenons ensuite un régresseur avec cette valeur sur l’ensemble du jeu de données Boston "
      ]
    },
    {
      "cell_type": "code",
      "metadata": {
        "colab": {
          "base_uri": "https://localhost:8080/"
        },
        "id": "Bw_KV7307U9Y",
        "outputId": "5031428a-9ff9-4775-a6b3-fd9dc5e154fc"
      },
      "source": [
        "ridge = Ridge(alpha=0.23101297000831603)\r\n",
        "ridge.fit(X_sansconstante, y)\r\n"
      ],
      "execution_count": 26,
      "outputs": [
        {
          "output_type": "execute_result",
          "data": {
            "text/plain": [
              "Ridge(alpha=0.23101297000831603, copy_X=True, fit_intercept=True, max_iter=None,\n",
              "      normalize=False, random_state=None, solver='auto', tol=0.001)"
            ]
          },
          "metadata": {
            "tags": []
          },
          "execution_count": 26
        }
      ]
    },
    {
      "cell_type": "markdown",
      "metadata": {
        "id": "JE02_k4j7WKV"
      },
      "source": [
        "calculons l’erreur au sens des moindres carrés "
      ]
    },
    {
      "cell_type": "code",
      "metadata": {
        "colab": {
          "base_uri": "https://localhost:8080/"
        },
        "id": "Pt-EiELQ-u9O",
        "outputId": "faaf8d98-ae3c-4e48-a3bc-bc032d913418"
      },
      "source": [
        "y_rigde = ridge.predict(X_sansconstante)\r\n",
        "from sklearn.metrics import mean_squared_error\r\n",
        "mean_squared_error(y, y_rigde)"
      ],
      "execution_count": 27,
      "outputs": [
        {
          "output_type": "execute_result",
          "data": {
            "text/plain": [
              "21.911208993753206"
            ]
          },
          "metadata": {
            "tags": []
          },
          "execution_count": 27
        }
      ]
    },
    {
      "cell_type": "markdown",
      "metadata": {
        "id": "0Y34yzyA_i9G"
      },
      "source": [
        "#### 5)\r\n",
        "\r\n",
        "#### a)\r\n",
        "\r\n",
        "En utilisant la classe linear_model.Lasso, tracez l’évolution des coefficients du vecteur α  en fonction de la valeur du paramètre lambda"
      ]
    },
    {
      "cell_type": "code",
      "metadata": {
        "colab": {
          "base_uri": "https://localhost:8080/"
        },
        "id": "5acNFJWysVWR",
        "outputId": "db699c0b-e418-49ce-cec9-7e3c3b0568bc"
      },
      "source": [
        "from sklearn.linear_model import Lasso\n",
        "lasso = Lasso()\n",
        "lasso.fit(X_sansconstante, y)"
      ],
      "execution_count": 28,
      "outputs": [
        {
          "output_type": "execute_result",
          "data": {
            "text/plain": [
              "Lasso(alpha=1.0, copy_X=True, fit_intercept=True, max_iter=1000,\n",
              "      normalize=False, positive=False, precompute=False, random_state=None,\n",
              "      selection='cyclic', tol=0.0001, warm_start=False)"
            ]
          },
          "metadata": {
            "tags": []
          },
          "execution_count": 28
        }
      ]
    },
    {
      "cell_type": "code",
      "metadata": {
        "id": "vFQE2h-5sVWR",
        "colab": {
          "base_uri": "https://localhost:8080/"
        },
        "outputId": "bae0c508-abc1-4990-cc16-e2e93682d850"
      },
      "source": [
        "lasso.coef_"
      ],
      "execution_count": 29,
      "outputs": [
        {
          "output_type": "execute_result",
          "data": {
            "text/plain": [
              "array([-0.06343729,  0.04916467, -0.        ,  0.        , -0.        ,\n",
              "        0.9498107 ,  0.02090951, -0.66879   ,  0.26420643, -0.01521159,\n",
              "       -0.72296636,  0.00824703, -0.76111454])"
            ]
          },
          "metadata": {
            "tags": []
          },
          "execution_count": 29
        }
      ]
    },
    {
      "cell_type": "code",
      "metadata": {
        "id": "dT2DrzY9sVWR",
        "colab": {
          "base_uri": "https://localhost:8080/"
        },
        "outputId": "b25c30d1-8c1d-429c-8bc5-4d66f1914658"
      },
      "source": [
        "lasso.intercept_"
      ],
      "execution_count": 30,
      "outputs": [
        {
          "output_type": "execute_result",
          "data": {
            "text/plain": [
              "array([41.05693374])"
            ]
          },
          "metadata": {
            "tags": []
          },
          "execution_count": 30
        }
      ]
    },
    {
      "cell_type": "code",
      "metadata": {
        "id": "hVKOQ7zksVWS"
      },
      "source": [
        ""
      ],
      "execution_count": null,
      "outputs": []
    },
    {
      "cell_type": "code",
      "metadata": {
        "id": "Dm6f6ibWsVWS"
      },
      "source": [
        "def lasso_alpha() :\n",
        "    lasso = Lasso(normalize=True)\n",
        "    alphas = np.logspace(-3,3,10)\n",
        "    coef = []\n",
        "    for a in alphas:\n",
        "        lasso.set_params(alpha=a)\n",
        "        lasso.fit(X_sansconstante,y['Prix'])\n",
        "        coef.append(lasso.coef_)\n",
        "    ax = plt.gca()\n",
        "    ax.plot(alphas, coef)\n",
        "    ax.set_xscale('log')\n",
        "    ax.set_xlim(ax.get_xlim())\n",
        "    plt.xlabel('(lamda)')\n",
        "    plt.ylabel('$\\\\alpha$ (Regression Coefficients)')\n",
        "    plt.legend(X_sansconstante.columns,loc = 'best',fontsize = 7)\n",
        "    plt.show()"
      ],
      "execution_count": 31,
      "outputs": []
    },
    {
      "cell_type": "code",
      "metadata": {
        "colab": {
          "base_uri": "https://localhost:8080/",
          "height": 284
        },
        "id": "m2gXl5dNsVWT",
        "outputId": "0a314abb-8ace-4d3f-bb6d-c322c47688ee"
      },
      "source": [
        "lasso_alpha()"
      ],
      "execution_count": null,
      "outputs": [
        {
          "output_type": "display_data",
          "data": {
            "image/png": "[encoded data removed]",
            "text/plain": [
              "<Figure size 432x288 with 1 Axes>"
            ]
          },
          "metadata": {
            "tags": [],
            "needs_background": "light"
          }
        }
      ]
    },
    {
      "cell_type": "markdown",
      "metadata": {
        "id": "-RrJvA3vB39u"
      },
      "source": [
        "les variables qui semblent le mieux expliquer le prix des maisons à Boston sont \r\n",
        "NOX,RM,CHAS\r\n",
        "\r\n",
        "\r\n",
        "##### b)\r\n",
        "\r\n",
        "Nous allons chercher la meilleur valeur du parametre lamda par la methode de Gridsearch (sur 100 lamda different np.logspace(-3,3,100) avec cv=10)."
      ]
    },
    {
      "cell_type": "code",
      "metadata": {
        "colab": {
          "base_uri": "https://localhost:8080/"
        },
        "id": "tB4sYGUrB4WY",
        "outputId": "c1c14502-0352-4696-de4a-13f96af51aa7"
      },
      "source": [
        "from sklearn.model_selection import GridSearchCV\r\n",
        "lasso= Lasso(normalize=True)\r\n",
        "param_grid = {'alpha': np.logspace(-3,3,100)}\r\n",
        "grid = GridSearchCV(lasso, param_grid, cv=10,\r\n",
        "return_train_score=True,scoring='neg_mean_squared_error')\r\n",
        "grid.fit(X_sansconstante,y)\r\n",
        "best_score = float(format(grid.best_score_, '.4f'))\r\n",
        "print('Best CV score: {:.4f}'.format(-grid.best_score_))\r\n",
        "print('Best parameter :',grid.best_params_)"
      ],
      "execution_count": 32,
      "outputs": [
        {
          "output_type": "stream",
          "text": [
            "Best CV score: 33.8766\n",
            "Best parameter : {'alpha': 0.008111308307896872}\n"
          ],
          "name": "stdout"
        }
      ]
    },
    {
      "cell_type": "markdown",
      "metadata": {
        "id": "OQY1O10EC21J"
      },
      "source": [
        "le meilleur lamda est  0.008111308307896872 en utlisant le MSE comme scoring\r\n",
        "\r\n",
        "```\r\n",
        "# Ce texte est au format code\r\n",
        "```\r\n",
        "\r\n",
        "\r\n",
        "\r\n",
        "\r\n",
        "Apprenons ensuite un régresseur avec cette valeur sur l’ensemble du jeu de données Boston "
      ]
    },
    {
      "cell_type": "code",
      "metadata": {
        "colab": {
          "base_uri": "https://localhost:8080/"
        },
        "id": "lAWEyohRDHwu",
        "outputId": "520ce621-0d6c-47c9-cffc-d41079e1e184"
      },
      "source": [
        "lasso = Ridge(alpha=0.008111308307896872)\r\n",
        "lasso.fit(X_sansconstante, y)\r\n"
      ],
      "execution_count": 33,
      "outputs": [
        {
          "output_type": "execute_result",
          "data": {
            "text/plain": [
              "Ridge(alpha=0.008111308307896872, copy_X=True, fit_intercept=True,\n",
              "      max_iter=None, normalize=False, random_state=None, solver='auto',\n",
              "      tol=0.001)"
            ]
          },
          "metadata": {
            "tags": []
          },
          "execution_count": 33
        }
      ]
    },
    {
      "cell_type": "markdown",
      "metadata": {
        "id": "8-QqKgNIDpJi"
      },
      "source": [
        "calculons l’erreur au sens des moindres carrés"
      ]
    },
    {
      "cell_type": "code",
      "metadata": {
        "colab": {
          "base_uri": "https://localhost:8080/"
        },
        "id": "aMMTzfAcDW_M",
        "outputId": "cf56ba60-5993-4cac-821a-2411e96484e0"
      },
      "source": [
        "y_lasso = lasso.predict(X_sansconstante)\r\n",
        "from sklearn.metrics import mean_squared_error\r\n",
        "mean_squared_error(y, y_lasso)"
      ],
      "execution_count": 34,
      "outputs": [
        {
          "output_type": "execute_result",
          "data": {
            "text/plain": [
              "21.894857583196416"
            ]
          },
          "metadata": {
            "tags": []
          },
          "execution_count": 34
        }
      ]
    },
    {
      "cell_type": "markdown",
      "metadata": {
        "id": "fo96_L7usVWT"
      },
      "source": [
        "### Exercice N'3"
      ]
    },
    {
      "cell_type": "code",
      "metadata": {
        "colab": {
          "base_uri": "https://localhost:8080/"
        },
        "id": "Sk82eIgfsVWU",
        "outputId": "33a7a87b-fc30-4bdd-afb4-3a95782e1abb"
      },
      "source": [
        "import pandas as pd\n",
        "import numpy as np\n",
        "import sklearn.metrics as sm\n",
        "import matplotlib.pyplot as plt\n",
        "from sklearn.cluster import KMeans\n",
        "from sklearn import datasets\n",
        "from sklearn.svm import SVC\n",
        "import sklearn.metrics as sm\n",
        "#from sklearn.metrics import plot_confusion_matrix\n",
        "\n",
        "\n",
        "iris = datasets.load_iris()\n",
        "\n",
        "\n",
        "print(iris)\n",
        "print(iris.data)\n",
        "print(iris.feature_names)\n",
        "print(iris.target)\n",
        "print(iris.target_names)\n",
        "\n",
        "x=pd.DataFrame(iris.data)\n",
        "# définir les noms de colonnes\n",
        "x.columns=['Sepal_Length','Sepal_width','Petal_Length','Petal_width']\n",
        "y=pd.DataFrame(iris.target)\n",
        "y.columns=['Targets']\n",
        "#########################################################################\n",
        "new_target =  np.where(iris.target<1, 0, 1)\n",
        "colormap =np.array(['BLUE','GREEN','CYAN'])\n"
      ],
      "execution_count": null,
      "outputs": [
        {
          "output_type": "stream",
          "text": [
            "{'data': array([[5.1, 3.5, 1.4, 0.2],\n",
            "       [4.9, 3. , 1.4, 0.2],\n",
            "       [4.7, 3.2, 1.3, 0.2],\n",
            "       [4.6, 3.1, 1.5, 0.2],\n",
            "       [5. , 3.6, 1.4, 0.2],\n",
            "       [5.4, 3.9, 1.7, 0.4],\n",
            "       [4.6, 3.4, 1.4, 0.3],\n",
            "       [5. , 3.4, 1.5, 0.2],\n",
            "       [4.4, 2.9, 1.4, 0.2],\n",
            "       [4.9, 3.1, 1.5, 0.1],\n",
            "       [5.4, 3.7, 1.5, 0.2],\n",
            "       [4.8, 3.4, 1.6, 0.2],\n",
            "       [4.8, 3. , 1.4, 0.1],\n",
            "       [4.3, 3. , 1.1, 0.1],\n",
            "       [5.8, 4. , 1.2, 0.2],\n",
            "       [5.7, 4.4, 1.5, 0.4],\n",
            "       [5.4, 3.9, 1.3, 0.4],\n",
            "       [5.1, 3.5, 1.4, 0.3],\n",
            "       [5.7, 3.8, 1.7, 0.3],\n",
            "       [5.1, 3.8, 1.5, 0.3],\n",
            "       [5.4, 3.4, 1.7, 0.2],\n",
            "       [5.1, 3.7, 1.5, 0.4],\n",
            "       [4.6, 3.6, 1. , 0.2],\n",
            "       [5.1, 3.3, 1.7, 0.5],\n",
            "       [4.8, 3.4, 1.9, 0.2],\n",
            "       [5. , 3. , 1.6, 0.2],\n",
            "       [5. , 3.4, 1.6, 0.4],\n",
            "       [5.2, 3.5, 1.5, 0.2],\n",
            "       [5.2, 3.4, 1.4, 0.2],\n",
            "       [4.7, 3.2, 1.6, 0.2],\n",
            "       [4.8, 3.1, 1.6, 0.2],\n",
            "       [5.4, 3.4, 1.5, 0.4],\n",
            "       [5.2, 4.1, 1.5, 0.1],\n",
            "       [5.5, 4.2, 1.4, 0.2],\n",
            "       [4.9, 3.1, 1.5, 0.2],\n",
            "       [5. , 3.2, 1.2, 0.2],\n",
            "       [5.5, 3.5, 1.3, 0.2],\n",
            "       [4.9, 3.6, 1.4, 0.1],\n",
            "       [4.4, 3. , 1.3, 0.2],\n",
            "       [5.1, 3.4, 1.5, 0.2],\n",
            "       [5. , 3.5, 1.3, 0.3],\n",
            "       [4.5, 2.3, 1.3, 0.3],\n",
            "       [4.4, 3.2, 1.3, 0.2],\n",
            "       [5. , 3.5, 1.6, 0.6],\n",
            "       [5.1, 3.8, 1.9, 0.4],\n",
            "       [4.8, 3. , 1.4, 0.3],\n",
            "       [5.1, 3.8, 1.6, 0.2],\n",
            "       [4.6, 3.2, 1.4, 0.2],\n",
            "       [5.3, 3.7, 1.5, 0.2],\n",
            "       [5. , 3.3, 1.4, 0.2],\n",
            "       [7. , 3.2, 4.7, 1.4],\n",
            "       [6.4, 3.2, 4.5, 1.5],\n",
            "       [6.9, 3.1, 4.9, 1.5],\n",
            "       [5.5, 2.3, 4. , 1.3],\n",
            "       [6.5, 2.8, 4.6, 1.5],\n",
            "       [5.7, 2.8, 4.5, 1.3],\n",
            "       [6.3, 3.3, 4.7, 1.6],\n",
            "       [4.9, 2.4, 3.3, 1. ],\n",
            "       [6.6, 2.9, 4.6, 1.3],\n",
            "       [5.2, 2.7, 3.9, 1.4],\n",
            "       [5. , 2. , 3.5, 1. ],\n",
            "       [5.9, 3. , 4.2, 1.5],\n",
            "       [6. , 2.2, 4. , 1. ],\n",
            "       [6.1, 2.9, 4.7, 1.4],\n",
            "       [5.6, 2.9, 3.6, 1.3],\n",
            "       [6.7, 3.1, 4.4, 1.4],\n",
            "       [5.6, 3. , 4.5, 1.5],\n",
            "       [5.8, 2.7, 4.1, 1. ],\n",
            "       [6.2, 2.2, 4.5, 1.5],\n",
            "       [5.6, 2.5, 3.9, 1.1],\n",
            "       [5.9, 3.2, 4.8, 1.8],\n",
            "       [6.1, 2.8, 4. , 1.3],\n",
            "       [6.3, 2.5, 4.9, 1.5],\n",
            "       [6.1, 2.8, 4.7, 1.2],\n",
            "       [6.4, 2.9, 4.3, 1.3],\n",
            "       [6.6, 3. , 4.4, 1.4],\n",
            "       [6.8, 2.8, 4.8, 1.4],\n",
            "       [6.7, 3. , 5. , 1.7],\n",
            "       [6. , 2.9, 4.5, 1.5],\n",
            "       [5.7, 2.6, 3.5, 1. ],\n",
            "       [5.5, 2.4, 3.8, 1.1],\n",
            "       [5.5, 2.4, 3.7, 1. ],\n",
            "       [5.8, 2.7, 3.9, 1.2],\n",
            "       [6. , 2.7, 5.1, 1.6],\n",
            "       [5.4, 3. , 4.5, 1.5],\n",
            "       [6. , 3.4, 4.5, 1.6],\n",
            "       [6.7, 3.1, 4.7, 1.5],\n",
            "       [6.3, 2.3, 4.4, 1.3],\n",
            "       [5.6, 3. , 4.1, 1.3],\n",
            "       [5.5, 2.5, 4. , 1.3],\n",
            "       [5.5, 2.6, 4.4, 1.2],\n",
            "       [6.1, 3. , 4.6, 1.4],\n",
            "       [5.8, 2.6, 4. , 1.2],\n",
            "       [5. , 2.3, 3.3, 1. ],\n",
            "       [5.6, 2.7, 4.2, 1.3],\n",
            "       [5.7, 3. , 4.2, 1.2],\n",
            "       [5.7, 2.9, 4.2, 1.3],\n",
            "       [6.2, 2.9, 4.3, 1.3],\n",
            "       [5.1, 2.5, 3. , 1.1],\n",
            "       [5.7, 2.8, 4.1, 1.3],\n",
            "       [6.3, 3.3, 6. , 2.5],\n",
            "       [5.8, 2.7, 5.1, 1.9],\n",
            "       [7.1, 3. , 5.9, 2.1],\n",
            "       [6.3, 2.9, 5.6, 1.8],\n",
            "       [6.5, 3. , 5.8, 2.2],\n",
            "       [7.6, 3. , 6.6, 2.1],\n",
            "       [4.9, 2.5, 4.5, 1.7],\n",
            "       [7.3, 2.9, 6.3, 1.8],\n",
            "       [6.7, 2.5, 5.8, 1.8],\n",
            "       [7.2, 3.6, 6.1, 2.5],\n",
            "       [6.5, 3.2, 5.1, 2. ],\n",
            "       [6.4, 2.7, 5.3, 1.9],\n",
            "       [6.8, 3. , 5.5, 2.1],\n",
            "       [5.7, 2.5, 5. , 2. ],\n",
            "       [5.8, 2.8, 5.1, 2.4],\n",
            "       [6.4, 3.2, 5.3, 2.3],\n",
            "       [6.5, 3. , 5.5, 1.8],\n",
            "       [7.7, 3.8, 6.7, 2.2],\n",
            "       [7.7, 2.6, 6.9, 2.3],\n",
            "       [6. , 2.2, 5. , 1.5],\n",
            "       [6.9, 3.2, 5.7, 2.3],\n",
            "       [5.6, 2.8, 4.9, 2. ],\n",
            "       [7.7, 2.8, 6.7, 2. ],\n",
            "       [6.3, 2.7, 4.9, 1.8],\n",
            "       [6.7, 3.3, 5.7, 2.1],\n",
            "       [7.2, 3.2, 6. , 1.8],\n",
            "       [6.2, 2.8, 4.8, 1.8],\n",
            "       [6.1, 3. , 4.9, 1.8],\n",
            "       [6.4, 2.8, 5.6, 2.1],\n",
            "       [7.2, 3. , 5.8, 1.6],\n",
            "       [7.4, 2.8, 6.1, 1.9],\n",
            "       [7.9, 3.8, 6.4, 2. ],\n",
            "       [6.4, 2.8, 5.6, 2.2],\n",
            "       [6.3, 2.8, 5.1, 1.5],\n",
            "       [6.1, 2.6, 5.6, 1.4],\n",
            "       [7.7, 3. , 6.1, 2.3],\n",
            "       [6.3, 3.4, 5.6, 2.4],\n",
            "       [6.4, 3.1, 5.5, 1.8],\n",
            "       [6. , 3. , 4.8, 1.8],\n",
            "       [6.9, 3.1, 5.4, 2.1],\n",
            "       [6.7, 3.1, 5.6, 2.4],\n",
            "       [6.9, 3.1, 5.1, 2.3],\n",
            "       [5.8, 2.7, 5.1, 1.9],\n",
            "       [6.8, 3.2, 5.9, 2.3],\n",
            "       [6.7, 3.3, 5.7, 2.5],\n",
            "       [6.7, 3. , 5.2, 2.3],\n",
            "       [6.3, 2.5, 5. , 1.9],\n",
            "       [6.5, 3. , 5.2, 2. ],\n",
            "       [6.2, 3.4, 5.4, 2.3],\n",
            "       [5.9, 3. , 5.1, 1.8]]), 'target': array([0, 0, 0, 0, 0, 0, 0, 0, 0, 0, 0, 0, 0, 0, 0, 0, 0, 0, 0, 0, 0, 0,\n",
            "       0, 0, 0, 0, 0, 0, 0, 0, 0, 0, 0, 0, 0, 0, 0, 0, 0, 0, 0, 0, 0, 0,\n",
            "       0, 0, 0, 0, 0, 0, 1, 1, 1, 1, 1, 1, 1, 1, 1, 1, 1, 1, 1, 1, 1, 1,\n",
            "       1, 1, 1, 1, 1, 1, 1, 1, 1, 1, 1, 1, 1, 1, 1, 1, 1, 1, 1, 1, 1, 1,\n",
            "       1, 1, 1, 1, 1, 1, 1, 1, 1, 1, 1, 1, 2, 2, 2, 2, 2, 2, 2, 2, 2, 2,\n",
            "       2, 2, 2, 2, 2, 2, 2, 2, 2, 2, 2, 2, 2, 2, 2, 2, 2, 2, 2, 2, 2, 2,\n",
            "       2, 2, 2, 2, 2, 2, 2, 2, 2, 2, 2, 2, 2, 2, 2, 2, 2, 2]), 'target_names': array(['setosa', 'versicolor', 'virginica'], dtype='<U10'), 'DESCR': '.. _iris_dataset:\\n\\nIris plants dataset\\n--------------------\\n\\n**Data Set Characteristics:**\\n\\n    :Number of Instances: 150 (50 in each of three classes)\\n    :Number of Attributes: 4 numeric, predictive attributes and the class\\n    :Attribute Information:\\n        - sepal length in cm\\n        - sepal width in cm\\n        - petal length in cm\\n        - petal width in cm\\n        - class:\\n                - Iris-Setosa\\n                - Iris-Versicolour\\n                - Iris-Virginica\\n                \\n    :Summary Statistics:\\n\\n    ============== ==== ==== ======= ===== ====================\\n                    Min  Max   Mean    SD   Class Correlation\\n    ============== ==== ==== ======= ===== ====================\\n    sepal length:   4.3  7.9   5.84   0.83    0.7826\\n    sepal width:    2.0  4.4   3.05   0.43   -0.4194\\n    petal length:   1.0  6.9   3.76   1.76    0.9490  (high!)\\n    petal width:    0.1  2.5   1.20   0.76    0.9565  (high!)\\n    ============== ==== ==== ======= ===== ====================\\n\\n    :Missing Attribute Values: None\\n    :Class Distribution: 33.3% for each of 3 classes.\\n    :Creator: R.A. Fisher\\n    :Donor: Michael Marshall (MARSHALL%PLU@io.arc.nasa.gov)\\n    :Date: July, 1988\\n\\nThe famous Iris database, first used by Sir R.A. Fisher. The dataset is taken\\nfrom Fisher\\'s paper. Note that it\\'s the same as in R, but not as in the UCI\\nMachine Learning Repository, which has two wrong data points.\\n\\nThis is perhaps the best known database to be found in the\\npattern recognition literature.  Fisher\\'s paper is a classic in the field and\\nis referenced frequently to this day.  (See Duda & Hart, for example.)  The\\ndata set contains 3 classes of 50 instances each, where each class refers to a\\ntype of iris plant.  One class is linearly separable from the other 2; the\\nlatter are NOT linearly separable from each other.\\n\\n.. topic:: References\\n\\n   - Fisher, R.A. \"The use of multiple measurements in taxonomic problems\"\\n     Annual Eugenics, 7, Part II, 179-188 (1936); also in \"Contributions to\\n     Mathematical Statistics\" (John Wiley, NY, 1950).\\n   - Duda, R.O., & Hart, P.E. (1973) Pattern Classification and Scene Analysis.\\n     (Q327.D83) John Wiley & Sons.  ISBN 0-471-22361-1.  See page 218.\\n   - Dasarathy, B.V. (1980) \"Nosing Around the Neighborhood: A New System\\n     Structure and Classification Rule for Recognition in Partially Exposed\\n     Environments\".  IEEE Transactions on Pattern Analysis and Machine\\n     Intelligence, Vol. PAMI-2, No. 1, 67-71.\\n   - Gates, G.W. (1972) \"The Reduced Nearest Neighbor Rule\".  IEEE Transactions\\n     on Information Theory, May 1972, 431-433.\\n   - See also: 1988 MLC Proceedings, 54-64.  Cheeseman et al\"s AUTOCLASS II\\n     conceptual clustering system finds 3 classes in the data.\\n   - Many, many more ...', 'feature_names': ['sepal length (cm)', 'sepal width (cm)', 'petal length (cm)', 'petal width (cm)'], 'filename': '/usr/local/lib/python3.6/dist-packages/sklearn/datasets/data/iris.csv'}\n",
            "[[5.1 3.5 1.4 0.2]\n",
            " [4.9 3.  1.4 0.2]\n",
            " [4.7 3.2 1.3 0.2]\n",
            " [4.6 3.1 1.5 0.2]\n",
            " [5.  3.6 1.4 0.2]\n",
            " [5.4 3.9 1.7 0.4]\n",
            " [4.6 3.4 1.4 0.3]\n",
            " [5.  3.4 1.5 0.2]\n",
            " [4.4 2.9 1.4 0.2]\n",
            " [4.9 3.1 1.5 0.1]\n",
            " [5.4 3.7 1.5 0.2]\n",
            " [4.8 3.4 1.6 0.2]\n",
            " [4.8 3.  1.4 0.1]\n",
            " [4.3 3.  1.1 0.1]\n",
            " [5.8 4.  1.2 0.2]\n",
            " [5.7 4.4 1.5 0.4]\n",
            " [5.4 3.9 1.3 0.4]\n",
            " [5.1 3.5 1.4 0.3]\n",
            " [5.7 3.8 1.7 0.3]\n",
            " [5.1 3.8 1.5 0.3]\n",
            " [5.4 3.4 1.7 0.2]\n",
            " [5.1 3.7 1.5 0.4]\n",
            " [4.6 3.6 1.  0.2]\n",
            " [5.1 3.3 1.7 0.5]\n",
            " [4.8 3.4 1.9 0.2]\n",
            " [5.  3.  1.6 0.2]\n",
            " [5.  3.4 1.6 0.4]\n",
            " [5.2 3.5 1.5 0.2]\n",
            " [5.2 3.4 1.4 0.2]\n",
            " [4.7 3.2 1.6 0.2]\n",
            " [4.8 3.1 1.6 0.2]\n",
            " [5.4 3.4 1.5 0.4]\n",
            " [5.2 4.1 1.5 0.1]\n",
            " [5.5 4.2 1.4 0.2]\n",
            " [4.9 3.1 1.5 0.2]\n",
            " [5.  3.2 1.2 0.2]\n",
            " [5.5 3.5 1.3 0.2]\n",
            " [4.9 3.6 1.4 0.1]\n",
            " [4.4 3.  1.3 0.2]\n",
            " [5.1 3.4 1.5 0.2]\n",
            " [5.  3.5 1.3 0.3]\n",
            " [4.5 2.3 1.3 0.3]\n",
            " [4.4 3.2 1.3 0.2]\n",
            " [5.  3.5 1.6 0.6]\n",
            " [5.1 3.8 1.9 0.4]\n",
            " [4.8 3.  1.4 0.3]\n",
            " [5.1 3.8 1.6 0.2]\n",
            " [4.6 3.2 1.4 0.2]\n",
            " [5.3 3.7 1.5 0.2]\n",
            " [5.  3.3 1.4 0.2]\n",
            " [7.  3.2 4.7 1.4]\n",
            " [6.4 3.2 4.5 1.5]\n",
            " [6.9 3.1 4.9 1.5]\n",
            " [5.5 2.3 4.  1.3]\n",
            " [6.5 2.8 4.6 1.5]\n",
            " [5.7 2.8 4.5 1.3]\n",
            " [6.3 3.3 4.7 1.6]\n",
            " [4.9 2.4 3.3 1. ]\n",
            " [6.6 2.9 4.6 1.3]\n",
            " [5.2 2.7 3.9 1.4]\n",
            " [5.  2.  3.5 1. ]\n",
            " [5.9 3.  4.2 1.5]\n",
            " [6.  2.2 4.  1. ]\n",
            " [6.1 2.9 4.7 1.4]\n",
            " [5.6 2.9 3.6 1.3]\n",
            " [6.7 3.1 4.4 1.4]\n",
            " [5.6 3.  4.5 1.5]\n",
            " [5.8 2.7 4.1 1. ]\n",
            " [6.2 2.2 4.5 1.5]\n",
            " [5.6 2.5 3.9 1.1]\n",
            " [5.9 3.2 4.8 1.8]\n",
            " [6.1 2.8 4.  1.3]\n",
            " [6.3 2.5 4.9 1.5]\n",
            " [6.1 2.8 4.7 1.2]\n",
            " [6.4 2.9 4.3 1.3]\n",
            " [6.6 3.  4.4 1.4]\n",
            " [6.8 2.8 4.8 1.4]\n",
            " [6.7 3.  5.  1.7]\n",
            " [6.  2.9 4.5 1.5]\n",
            " [5.7 2.6 3.5 1. ]\n",
            " [5.5 2.4 3.8 1.1]\n",
            " [5.5 2.4 3.7 1. ]\n",
            " [5.8 2.7 3.9 1.2]\n",
            " [6.  2.7 5.1 1.6]\n",
            " [5.4 3.  4.5 1.5]\n",
            " [6.  3.4 4.5 1.6]\n",
            " [6.7 3.1 4.7 1.5]\n",
            " [6.3 2.3 4.4 1.3]\n",
            " [5.6 3.  4.1 1.3]\n",
            " [5.5 2.5 4.  1.3]\n",
            " [5.5 2.6 4.4 1.2]\n",
            " [6.1 3.  4.6 1.4]\n",
            " [5.8 2.6 4.  1.2]\n",
            " [5.  2.3 3.3 1. ]\n",
            " [5.6 2.7 4.2 1.3]\n",
            " [5.7 3.  4.2 1.2]\n",
            " [5.7 2.9 4.2 1.3]\n",
            " [6.2 2.9 4.3 1.3]\n",
            " [5.1 2.5 3.  1.1]\n",
            " [5.7 2.8 4.1 1.3]\n",
            " [6.3 3.3 6.  2.5]\n",
            " [5.8 2.7 5.1 1.9]\n",
            " [7.1 3.  5.9 2.1]\n",
            " [6.3 2.9 5.6 1.8]\n",
            " [6.5 3.  5.8 2.2]\n",
            " [7.6 3.  6.6 2.1]\n",
            " [4.9 2.5 4.5 1.7]\n",
            " [7.3 2.9 6.3 1.8]\n",
            " [6.7 2.5 5.8 1.8]\n",
            " [7.2 3.6 6.1 2.5]\n",
            " [6.5 3.2 5.1 2. ]\n",
            " [6.4 2.7 5.3 1.9]\n",
            " [6.8 3.  5.5 2.1]\n",
            " [5.7 2.5 5.  2. ]\n",
            " [5.8 2.8 5.1 2.4]\n",
            " [6.4 3.2 5.3 2.3]\n",
            " [6.5 3.  5.5 1.8]\n",
            " [7.7 3.8 6.7 2.2]\n",
            " [7.7 2.6 6.9 2.3]\n",
            " [6.  2.2 5.  1.5]\n",
            " [6.9 3.2 5.7 2.3]\n",
            " [5.6 2.8 4.9 2. ]\n",
            " [7.7 2.8 6.7 2. ]\n",
            " [6.3 2.7 4.9 1.8]\n",
            " [6.7 3.3 5.7 2.1]\n",
            " [7.2 3.2 6.  1.8]\n",
            " [6.2 2.8 4.8 1.8]\n",
            " [6.1 3.  4.9 1.8]\n",
            " [6.4 2.8 5.6 2.1]\n",
            " [7.2 3.  5.8 1.6]\n",
            " [7.4 2.8 6.1 1.9]\n",
            " [7.9 3.8 6.4 2. ]\n",
            " [6.4 2.8 5.6 2.2]\n",
            " [6.3 2.8 5.1 1.5]\n",
            " [6.1 2.6 5.6 1.4]\n",
            " [7.7 3.  6.1 2.3]\n",
            " [6.3 3.4 5.6 2.4]\n",
            " [6.4 3.1 5.5 1.8]\n",
            " [6.  3.  4.8 1.8]\n",
            " [6.9 3.1 5.4 2.1]\n",
            " [6.7 3.1 5.6 2.4]\n",
            " [6.9 3.1 5.1 2.3]\n",
            " [5.8 2.7 5.1 1.9]\n",
            " [6.8 3.2 5.9 2.3]\n",
            " [6.7 3.3 5.7 2.5]\n",
            " [6.7 3.  5.2 2.3]\n",
            " [6.3 2.5 5.  1.9]\n",
            " [6.5 3.  5.2 2. ]\n",
            " [6.2 3.4 5.4 2.3]\n",
            " [5.9 3.  5.1 1.8]]\n",
            "['sepal length (cm)', 'sepal width (cm)', 'petal length (cm)', 'petal width (cm)']\n",
            "[0 0 0 0 0 0 0 0 0 0 0 0 0 0 0 0 0 0 0 0 0 0 0 0 0 0 0 0 0 0 0 0 0 0 0 0 0\n",
            " 0 0 0 0 0 0 0 0 0 0 0 0 0 1 1 1 1 1 1 1 1 1 1 1 1 1 1 1 1 1 1 1 1 1 1 1 1\n",
            " 1 1 1 1 1 1 1 1 1 1 1 1 1 1 1 1 1 1 1 1 1 1 1 1 1 1 2 2 2 2 2 2 2 2 2 2 2\n",
            " 2 2 2 2 2 2 2 2 2 2 2 2 2 2 2 2 2 2 2 2 2 2 2 2 2 2 2 2 2 2 2 2 2 2 2 2 2\n",
            " 2 2]\n",
            "['setosa' 'versicolor' 'virginica']\n"
          ],
          "name": "stdout"
        }
      ]
    },
    {
      "cell_type": "code",
      "metadata": {
        "colab": {
          "base_uri": "https://localhost:8080/",
          "height": 795
        },
        "id": "64gLJhWQsVWU",
        "outputId": "c7a6fac1-2fd0-4014-ddba-35cc3d99aca5"
      },
      "source": [
        "plt.scatter(x.Sepal_Length, x.Sepal_width,c=colormap[new_target],s=40)\n",
        "new_data = x[['Sepal_Length','Sepal_width']]\n",
        "plt.scatter(new_data.Sepal_Length, new_data.Sepal_width,\n",
        "            c=colormap[new_target],s=40)\n",
        "\n",
        "\n",
        "svm = SVC(C=1)\n",
        "svm.fit(new_data, new_target)\n",
        "svm.support_vectors_"
      ],
      "execution_count": null,
      "outputs": [
        {
          "output_type": "execute_result",
          "data": {
            "text/plain": [
              "array([[4.9, 3. ],\n",
              "       [4.9, 3.1],\n",
              "       [4.8, 3. ],\n",
              "       [5.8, 4. ],\n",
              "       [5.7, 3.8],\n",
              "       [5.4, 3.4],\n",
              "       [5.1, 3.3],\n",
              "       [5. , 3. ],\n",
              "       [5.2, 3.4],\n",
              "       [5.4, 3.4],\n",
              "       [4.9, 3.1],\n",
              "       [5. , 3.2],\n",
              "       [5.5, 3.5],\n",
              "       [4.5, 2.3],\n",
              "       [4.8, 3. ],\n",
              "       [4.9, 2.4],\n",
              "       [5.2, 2.7],\n",
              "       [5.6, 2.9],\n",
              "       [5.6, 3. ],\n",
              "       [5.9, 3.2],\n",
              "       [5.4, 3. ],\n",
              "       [6. , 3.4],\n",
              "       [5.6, 3. ],\n",
              "       [5. , 2.3],\n",
              "       [5.7, 3. ],\n",
              "       [5.7, 2.9],\n",
              "       [5.1, 2.5],\n",
              "       [4.9, 2.5],\n",
              "       [5.6, 2.8],\n",
              "       [7.9, 3.8],\n",
              "       [6.2, 3.4]])"
            ]
          },
          "metadata": {
            "tags": []
          },
          "execution_count": 4
        },
        {
          "output_type": "display_data",
          "data": {
            "image/png": "[encoded data removed]",
            "text/plain": [
              "<Figure size 432x288 with 1 Axes>"
            ]
          },
          "metadata": {
            "tags": [],
            "needs_background": "light"
          }
        }
      ]
    },
    {
      "cell_type": "code",
      "metadata": {
        "colab": {
          "base_uri": "https://localhost:8080/",
          "height": 268
        },
        "id": "3O6AJTYpsVWW",
        "outputId": "38de8ee2-3263-4028-a694-7882e7df57ba"
      },
      "source": [
        "# 1. Tracer l'hyperplan de marge maximale séparateur\n",
        "\n",
        "def hyperplan():\n",
        "    plt.scatter(new_data.Sepal_Length, new_data.Sepal_width,\n",
        "                c=colormap[new_target],s=40)\n",
        "    # plot the decision function\n",
        "    ax = plt.gca()\n",
        "    xlim = ax.get_xlim()\n",
        "    ylim = ax.get_ylim()\n",
        "\n",
        "    # create grid to evaluate model\n",
        "    xx = np.linspace(xlim[0], xlim[1], 30)\n",
        "    yy = np.linspace(ylim[0], ylim[1], 30)\n",
        "    YY, XX = np.meshgrid(yy, xx)\n",
        "    xy = np.vstack([XX.ravel(), YY.ravel()]).T\n",
        "    Z = svm.decision_function(xy).reshape(XX.shape)\n",
        "\n",
        "    # plot decision boundary and margins\n",
        "    ax.contour(XX, YY, Z, colors='k', levels=[-1, 0, 1], alpha=0.5,\n",
        "               linestyles=['--', '-', '--'])\n",
        "    # plot support vectors\n",
        "    ax.scatter(svm.support_vectors_[:, 0], svm.support_vectors_[:, 1], s=100,\n",
        "               linewidth=1, facecolors='none', edgecolors='k')\n",
        "    plt.show()\n",
        "\n",
        "hyperplan()"
      ],
      "execution_count": null,
      "outputs": [
        {
          "output_type": "display_data",
          "data": {
            "image/png": "[encoded data removed]",
            "text/plain": [
              "<Figure size 432x288 with 1 Axes>"
            ]
          },
          "metadata": {
            "tags": [],
            "needs_background": "light"
          }
        }
      ]
    },
    {
      "cell_type": "code",
      "metadata": {
        "colab": {
          "base_uri": "https://localhost:8080/",
          "height": 732
        },
        "id": "6wkD8siusVWW",
        "outputId": "cab3bfcd-ff0e-4d8c-b4e1-6affbfbc8ad8"
      },
      "source": [
        "# 2. Evaluer l'algorithme de classification\n",
        "from sklearn.metrics import plot_confusion_matrix\n",
        "\n",
        "print('taux de  bonne prediction : ',svm.score(new_data, new_target))\n",
        "#svm.predict(new_data)\n",
        "#sm.confusion_matrix(new_target, svm.predict(new_data))\n",
        "plot_confusion_matrix(svm,new_data,new_target)  \n",
        "print('aire sous la courbe de roc : ',sm.roc_auc_score(new_target, svm.predict(new_data)))\n",
        "print(sm.classification_report(new_target, svm.predict(new_data)))\n",
        "sm.plot_roc_curve(svm, new_data,new_target)  \n",
        "plt.show()"
      ],
      "execution_count": null,
      "outputs": [
        {
          "output_type": "stream",
          "text": [
            "taux de  bonne prediction :  1.0\n",
            "aire sous la courbe de roc :  1.0\n",
            "              precision    recall  f1-score   support\n",
            "\n",
            "           0       1.00      1.00      1.00        50\n",
            "           1       1.00      1.00      1.00       100\n",
            "\n",
            "    accuracy                           1.00       150\n",
            "   macro avg       1.00      1.00      1.00       150\n",
            "weighted avg       1.00      1.00      1.00       150\n",
            "\n"
          ],
          "name": "stdout"
        },
        {
          "output_type": "display_data",
          "data": {
            "image/png": "[encoded data removed]",
            "text/plain": [
              "<Figure size 432x288 with 2 Axes>"
            ]
          },
          "metadata": {
            "tags": [],
            "needs_background": "light"
          }
        },
        {
          "output_type": "display_data",
          "data": {
            "image/png": "[encoded data removed]",
            "text/plain": [
              "<Figure size 432x288 with 1 Axes>"
            ]
          },
          "metadata": {
            "tags": [],
            "needs_background": "light"
          }
        }
      ]
    },
    {
      "cell_type": "code",
      "metadata": {
        "id": "Eq9IV3D7grhR"
      },
      "source": [
        ""
      ],
      "execution_count": null,
      "outputs": []
    },
    {
      "cell_type": "markdown",
      "metadata": {
        "id": "4gY0W4UVgxCd"
      },
      "source": [
        "Le modele a un accuracy de 1, un recall  et f1-score de 1 sur deux modalites. Aussi une aire sous la courbe de roc de 1. Nous pouvons dire que le modele est tres bon voir parfait. Etant donnee que le modele a ete evaluer sur les donnees d'entrainement dans la section suivant nous utilisee la validation croisse afin de choisir le parametre C dans le but de trouver un modele final. "
      ]
    },
    {
      "cell_type": "code",
      "metadata": {
        "id": "MZ4Sy-wbsVWY"
      },
      "source": [
        "# 3. Choisir le C optimal en utilisant la Validation Croisée \n",
        "# Ici nous choisisons un cv=5\n",
        "\n",
        "from sklearn.model_selection import GridSearchCV\n",
        "svm = SVC()\n",
        "svm.fit(new_data, new_target)\n",
        "svm.support_vectors_\n",
        "param_grid = {'C':np.linspace(0.001,100,20)}\n",
        "grid = GridSearchCV(svm, param_grid, cv=5,scoring = 'accuracy', return_train_score=True)\n",
        "grid.fit(new_data,new_target)\n",
        "best_score = float(format(grid.best_score_, '.4f'))"
      ],
      "execution_count": null,
      "outputs": []
    },
    {
      "cell_type": "code",
      "metadata": {
        "colab": {
          "base_uri": "https://localhost:8080/"
        },
        "id": "g14Q1cEgsVWY",
        "outputId": "a10ca104-d08e-451a-8777-f88cacc9276a"
      },
      "source": [
        "print('Best CV score: {:.4f}'.format(grid.best_score_))\n",
        "print('Best parameter :',grid.best_params_)"
      ],
      "execution_count": null,
      "outputs": [
        {
          "output_type": "stream",
          "text": [
            "Best CV score: 0.9933\n",
            "Best parameter : {'C': 5.264105263157894}\n"
          ],
          "name": "stdout"
        }
      ]
    },
    {
      "cell_type": "markdown",
      "metadata": {
        "id": "Oig8Y64XiAXg"
      },
      "source": [
        "Nous avons effectuer la validation croisse a travers le gridsearch pour trouver le meilleur C entre np.linspace(0.001,100,20) en utuilsant l'accuracy comme le scoring. Nous avons C=5.264105263157894 avec un accuracy de 0.9933.\r\n",
        "\r\n",
        "\r\n",
        "\r\n",
        "\r\n",
        "\r\n",
        "remarque : en faite dependant de la version sklearn.svm nous pouvons avoir un  leger difference au niveau des resultats ( une ancienne version utilise par defaut gamma='auto_deprecated' alors que la nouvelle utilise par defaut gamma='scale'"
      ]
    }
  ]
}